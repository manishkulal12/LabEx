{
 "cells": [
  {
   "cell_type": "code",
   "execution_count": 1,
   "id": "f1e41459",
   "metadata": {},
   "outputs": [],
   "source": [
    "def starts_with_A(s):\n",
    "    return s[0] == \"A\""
   ]
  },
  {
   "cell_type": "code",
   "execution_count": 3,
   "id": "4fbe5fb7",
   "metadata": {},
   "outputs": [
    {
     "name": "stdout",
     "output_type": "stream",
     "text": [
      "[True, False, False, True, False]\n"
     ]
    }
   ],
   "source": [
    "fruit = [\"Apple\",\"Banana\",\"Pear\",\"Apricot\",\"Orange\"]\n",
    "map_object = map(starts_with_A,fruit)\n",
    "print(list(map_object))"
   ]
  },
  {
   "cell_type": "markdown",
   "id": "e8070b54",
   "metadata": {},
   "source": [
    "# Using Lambda"
   ]
  },
  {
   "cell_type": "code",
   "execution_count": 4,
   "id": "c0431aa7",
   "metadata": {},
   "outputs": [
    {
     "name": "stdout",
     "output_type": "stream",
     "text": [
      "[True, False, False, True, False]\n"
     ]
    }
   ],
   "source": [
    "fruit = [\"Apple\",\"Banana\",\"Pear\",\"Apricot\",\"Orange\"]\n",
    "map_object = map(lambda s:s[0] == \"A\",fruit)\n",
    "print(list(map_object))"
   ]
  }
 ],
 "metadata": {
  "kernelspec": {
   "display_name": "Python 3 (ipykernel)",
   "language": "python",
   "name": "python3"
  },
  "language_info": {
   "codemirror_mode": {
    "name": "ipython",
    "version": 3
   },
   "file_extension": ".py",
   "mimetype": "text/x-python",
   "name": "python",
   "nbconvert_exporter": "python",
   "pygments_lexer": "ipython3",
   "version": "3.11.3"
  }
 },
 "nbformat": 4,
 "nbformat_minor": 5
}
