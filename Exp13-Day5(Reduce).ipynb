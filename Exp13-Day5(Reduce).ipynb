{
 "cells": [
  {
   "cell_type": "code",
   "execution_count": 4,
   "id": "32c92019",
   "metadata": {},
   "outputs": [],
   "source": [
    "from functools import reduce\n",
    "def add(x,y):\n",
    "    return x+y"
   ]
  },
  {
   "cell_type": "code",
   "execution_count": 5,
   "id": "e437c4ff",
   "metadata": {},
   "outputs": [
    {
     "name": "stdout",
     "output_type": "stream",
     "text": [
      "16\n"
     ]
    }
   ],
   "source": [
    "list = [2,4,7,3]\n",
    "print(reduce(add,list))"
   ]
  },
  {
   "cell_type": "markdown",
   "id": "5eb44b3b",
   "metadata": {},
   "source": [
    "# Using  Lambda"
   ]
  },
  {
   "cell_type": "code",
   "execution_count": 6,
   "id": "3e008c40",
   "metadata": {},
   "outputs": [
    {
     "name": "stdout",
     "output_type": "stream",
     "text": [
      "16\n",
      "With an initial value:26\n"
     ]
    }
   ],
   "source": [
    "list = [2,4,7,3]\n",
    "print(reduce(lambda x,y:x+y,list))\n",
    "print(\"With an initial value:\"+str(reduce(lambda x,y:x+y,list,10)))"
   ]
  }
 ],
 "metadata": {
  "kernelspec": {
   "display_name": "Python 3 (ipykernel)",
   "language": "python",
   "name": "python3"
  },
  "language_info": {
   "codemirror_mode": {
    "name": "ipython",
    "version": 3
   },
   "file_extension": ".py",
   "mimetype": "text/x-python",
   "name": "python",
   "nbconvert_exporter": "python",
   "pygments_lexer": "ipython3",
   "version": "3.11.3"
  }
 },
 "nbformat": 4,
 "nbformat_minor": 5
}
