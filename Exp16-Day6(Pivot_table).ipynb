{
 "cells": [
  {
   "cell_type": "code",
   "execution_count": 1,
   "id": "36a29b26",
   "metadata": {},
   "outputs": [],
   "source": [
    "import pandas as pd"
   ]
  },
  {
   "cell_type": "code",
   "execution_count": 8,
   "id": "c5ab1c66",
   "metadata": {},
   "outputs": [
    {
     "name": "stdout",
     "output_type": "stream",
     "text": [
      "  FirstName LastName                Type      Department  YoE  Salary\n",
      "0     Aryan    Singh  Full-Time Employee  Administration    2   20000\n",
      "1     Rohan  Agarwal              Intern       Technical    3    5000\n",
      "2      Riya     Shah  Full-Time Employee  Administration    5   10000\n",
      "3      Yash   Bhatia  Part-Time Employee       Technical    7   10000\n",
      "4  Siddhant   Khanna  Full-Time Employee      Management    6   20000\n"
     ]
    }
   ],
   "source": [
    "Data = {\n",
    "    'FirstName' : ['Aryan','Rohan','Riya','Yash','Siddhant'],\n",
    "    'LastName' : ['Singh','Agarwal','Shah','Bhatia','Khanna'],\n",
    "    'Type' : ['Full-Time Employee','Intern','Full-Time Employee','Part-Time Employee','Full-Time Employee'],\n",
    "    'Department' : ['Administration','Technical','Administration','Technical','Management'],\n",
    "    'YoE' : [2,3,5,7,6],\n",
    "    'Salary' : [20000,5000,10000,10000,20000]\n",
    "}\n",
    "employee_df = pd.DataFrame(Data)\n",
    "print(df)"
   ]
  },
  {
   "cell_type": "code",
   "execution_count": 9,
   "id": "859ed648",
   "metadata": {},
   "outputs": [
    {
     "data": {
      "text/html": [
       "<div>\n",
       "<style scoped>\n",
       "    .dataframe tbody tr th:only-of-type {\n",
       "        vertical-align: middle;\n",
       "    }\n",
       "\n",
       "    .dataframe tbody tr th {\n",
       "        vertical-align: top;\n",
       "    }\n",
       "\n",
       "    .dataframe thead th {\n",
       "        text-align: right;\n",
       "    }\n",
       "</style>\n",
       "<table border=\"1\" class=\"dataframe\">\n",
       "  <thead>\n",
       "    <tr style=\"text-align: right;\">\n",
       "      <th></th>\n",
       "      <th></th>\n",
       "      <th>Salary</th>\n",
       "    </tr>\n",
       "    <tr>\n",
       "      <th>Type</th>\n",
       "      <th>Department</th>\n",
       "      <th></th>\n",
       "    </tr>\n",
       "  </thead>\n",
       "  <tbody>\n",
       "    <tr>\n",
       "      <th rowspan=\"2\" valign=\"top\">Full-Time Employee</th>\n",
       "      <th>Administration</th>\n",
       "      <td>15000</td>\n",
       "    </tr>\n",
       "    <tr>\n",
       "      <th>Management</th>\n",
       "      <td>20000</td>\n",
       "    </tr>\n",
       "    <tr>\n",
       "      <th>Intern</th>\n",
       "      <th>Technical</th>\n",
       "      <td>5000</td>\n",
       "    </tr>\n",
       "    <tr>\n",
       "      <th>Part-Time Employee</th>\n",
       "      <th>Technical</th>\n",
       "      <td>10000</td>\n",
       "    </tr>\n",
       "  </tbody>\n",
       "</table>\n",
       "</div>"
      ],
      "text/plain": [
       "                                   Salary\n",
       "Type               Department            \n",
       "Full-Time Employee Administration   15000\n",
       "                   Management       20000\n",
       "Intern             Technical         5000\n",
       "Part-Time Employee Technical        10000"
      ]
     },
     "execution_count": 9,
     "metadata": {},
     "output_type": "execute_result"
    }
   ],
   "source": [
    "table = pd.pivot_table(employee_df,index = ['Type','Department'],values = 'Salary',aggfunc ='mean')\n",
    "table"
   ]
  },
  {
   "cell_type": "code",
   "execution_count": 10,
   "id": "728919b6",
   "metadata": {},
   "outputs": [
    {
     "name": "stdout",
     "output_type": "stream",
     "text": [
      "                            mean    sum\n",
      "                          Salary Salary\n",
      "Type                                   \n",
      "Full-Time Employee  16666.666667  50000\n",
      "Intern               5000.000000   5000\n",
      "Part-Time Employee  10000.000000  10000\n"
     ]
    }
   ],
   "source": [
    "pivot = pd.pivot_table(\n",
    "data = df,\n",
    "index = 'Type',\n",
    "values = 'Salary',\n",
    "aggfunc = ['mean','sum']\n",
    ")\n",
    "print(pivot)"
   ]
  },
  {
   "cell_type": "code",
   "execution_count": 13,
   "id": "aaaf763e",
   "metadata": {},
   "outputs": [
    {
     "data": {
      "text/html": [
       "<div>\n",
       "<style scoped>\n",
       "    .dataframe tbody tr th:only-of-type {\n",
       "        vertical-align: middle;\n",
       "    }\n",
       "\n",
       "    .dataframe tbody tr th {\n",
       "        vertical-align: top;\n",
       "    }\n",
       "\n",
       "    .dataframe thead th {\n",
       "        text-align: right;\n",
       "    }\n",
       "</style>\n",
       "<table border=\"1\" class=\"dataframe\">\n",
       "  <thead>\n",
       "    <tr style=\"text-align: right;\">\n",
       "      <th></th>\n",
       "      <th>Salary</th>\n",
       "    </tr>\n",
       "    <tr>\n",
       "      <th>Type</th>\n",
       "      <th></th>\n",
       "    </tr>\n",
       "  </thead>\n",
       "  <tbody>\n",
       "    <tr>\n",
       "      <th>Full-Time Employee</th>\n",
       "      <td>3</td>\n",
       "    </tr>\n",
       "    <tr>\n",
       "      <th>Intern</th>\n",
       "      <td>1</td>\n",
       "    </tr>\n",
       "    <tr>\n",
       "      <th>Part-Time Employee</th>\n",
       "      <td>1</td>\n",
       "    </tr>\n",
       "  </tbody>\n",
       "</table>\n",
       "</div>"
      ],
      "text/plain": [
       "                    Salary\n",
       "Type                      \n",
       "Full-Time Employee       3\n",
       "Intern                   1\n",
       "Part-Time Employee       1"
      ]
     },
     "execution_count": 13,
     "metadata": {},
     "output_type": "execute_result"
    }
   ],
   "source": [
    "employee_df.pivot_table(index = 'Type',values = 'Salary',aggfunc ='count')"
   ]
  }
 ],
 "metadata": {
  "kernelspec": {
   "display_name": "Python 3 (ipykernel)",
   "language": "python",
   "name": "python3"
  },
  "language_info": {
   "codemirror_mode": {
    "name": "ipython",
    "version": 3
   },
   "file_extension": ".py",
   "mimetype": "text/x-python",
   "name": "python",
   "nbconvert_exporter": "python",
   "pygments_lexer": "ipython3",
   "version": "3.11.4"
  }
 },
 "nbformat": 4,
 "nbformat_minor": 5
}
