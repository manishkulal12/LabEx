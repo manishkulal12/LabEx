{
 "cells": [
  {
   "cell_type": "code",
   "execution_count": 1,
   "id": "3890be84",
   "metadata": {},
   "outputs": [],
   "source": [
    "import numpy as np\n",
    "import pandas as pd\n",
    "import matplotlib.pyplot as plt\n",
    "import matplotlib.cm as cm"
   ]
  },
  {
   "cell_type": "code",
   "execution_count": 4,
   "id": "5c906154",
   "metadata": {},
   "outputs": [
    {
     "data": {
      "text/html": [
       "<div>\n",
       "<style scoped>\n",
       "    .dataframe tbody tr th:only-of-type {\n",
       "        vertical-align: middle;\n",
       "    }\n",
       "\n",
       "    .dataframe tbody tr th {\n",
       "        vertical-align: top;\n",
       "    }\n",
       "\n",
       "    .dataframe thead th {\n",
       "        text-align: right;\n",
       "    }\n",
       "</style>\n",
       "<table border=\"1\" class=\"dataframe\">\n",
       "  <thead>\n",
       "    <tr style=\"text-align: right;\">\n",
       "      <th></th>\n",
       "      <th>CLIENTNUM</th>\n",
       "      <th>Attrition_Flag</th>\n",
       "      <th>Customer_Age</th>\n",
       "      <th>Gender</th>\n",
       "      <th>Dependent_count</th>\n",
       "      <th>Education_Level</th>\n",
       "      <th>Income_Category</th>\n",
       "      <th>Credit_Limit</th>\n",
       "      <th>Total_Revolving_Bal</th>\n",
       "      <th>Avg_Purchase</th>\n",
       "      <th>Total_Trans_Amt</th>\n",
       "    </tr>\n",
       "  </thead>\n",
       "  <tbody>\n",
       "    <tr>\n",
       "      <th>0</th>\n",
       "      <td>768805383</td>\n",
       "      <td>Existing Customer</td>\n",
       "      <td>45</td>\n",
       "      <td>M</td>\n",
       "      <td>3</td>\n",
       "      <td>High School</td>\n",
       "      <td>$60K - $80K</td>\n",
       "      <td>12691.0</td>\n",
       "      <td>777</td>\n",
       "      <td>11914.0</td>\n",
       "      <td>1144</td>\n",
       "    </tr>\n",
       "    <tr>\n",
       "      <th>1</th>\n",
       "      <td>818770008</td>\n",
       "      <td>Existing Customer</td>\n",
       "      <td>49</td>\n",
       "      <td>F</td>\n",
       "      <td>5</td>\n",
       "      <td>Graduate</td>\n",
       "      <td>Less than $40K</td>\n",
       "      <td>8256.0</td>\n",
       "      <td>864</td>\n",
       "      <td>7392.0</td>\n",
       "      <td>1291</td>\n",
       "    </tr>\n",
       "    <tr>\n",
       "      <th>2</th>\n",
       "      <td>713982108</td>\n",
       "      <td>Existing Customer</td>\n",
       "      <td>51</td>\n",
       "      <td>M</td>\n",
       "      <td>3</td>\n",
       "      <td>Graduate</td>\n",
       "      <td>$80K - $120K</td>\n",
       "      <td>3418.0</td>\n",
       "      <td>0</td>\n",
       "      <td>3418.0</td>\n",
       "      <td>1887</td>\n",
       "    </tr>\n",
       "    <tr>\n",
       "      <th>3</th>\n",
       "      <td>769911858</td>\n",
       "      <td>Existing Customer</td>\n",
       "      <td>40</td>\n",
       "      <td>F</td>\n",
       "      <td>4</td>\n",
       "      <td>High School</td>\n",
       "      <td>Less than $40K</td>\n",
       "      <td>3313.0</td>\n",
       "      <td>2517</td>\n",
       "      <td>796.0</td>\n",
       "      <td>1171</td>\n",
       "    </tr>\n",
       "    <tr>\n",
       "      <th>4</th>\n",
       "      <td>709106358</td>\n",
       "      <td>Existing Customer</td>\n",
       "      <td>40</td>\n",
       "      <td>M</td>\n",
       "      <td>3</td>\n",
       "      <td>Uneducated</td>\n",
       "      <td>$60K - $80K</td>\n",
       "      <td>4716.0</td>\n",
       "      <td>0</td>\n",
       "      <td>4716.0</td>\n",
       "      <td>816</td>\n",
       "    </tr>\n",
       "    <tr>\n",
       "      <th>...</th>\n",
       "      <td>...</td>\n",
       "      <td>...</td>\n",
       "      <td>...</td>\n",
       "      <td>...</td>\n",
       "      <td>...</td>\n",
       "      <td>...</td>\n",
       "      <td>...</td>\n",
       "      <td>...</td>\n",
       "      <td>...</td>\n",
       "      <td>...</td>\n",
       "      <td>...</td>\n",
       "    </tr>\n",
       "    <tr>\n",
       "      <th>95</th>\n",
       "      <td>719712633</td>\n",
       "      <td>Existing Customer</td>\n",
       "      <td>64</td>\n",
       "      <td>M</td>\n",
       "      <td>1</td>\n",
       "      <td>Graduate</td>\n",
       "      <td>Less than $40K</td>\n",
       "      <td>1709.0</td>\n",
       "      <td>895</td>\n",
       "      <td>814.0</td>\n",
       "      <td>1673</td>\n",
       "    </tr>\n",
       "    <tr>\n",
       "      <th>96</th>\n",
       "      <td>772629333</td>\n",
       "      <td>Existing Customer</td>\n",
       "      <td>45</td>\n",
       "      <td>M</td>\n",
       "      <td>3</td>\n",
       "      <td>Graduate</td>\n",
       "      <td>$40K - $60K</td>\n",
       "      <td>3454.0</td>\n",
       "      <td>1200</td>\n",
       "      <td>2254.0</td>\n",
       "      <td>1313</td>\n",
       "    </tr>\n",
       "    <tr>\n",
       "      <th>97</th>\n",
       "      <td>720336708</td>\n",
       "      <td>Existing Customer</td>\n",
       "      <td>53</td>\n",
       "      <td>M</td>\n",
       "      <td>3</td>\n",
       "      <td>Doctorate</td>\n",
       "      <td>$40K - $60K</td>\n",
       "      <td>3789.0</td>\n",
       "      <td>1706</td>\n",
       "      <td>2083.0</td>\n",
       "      <td>1609</td>\n",
       "    </tr>\n",
       "    <tr>\n",
       "      <th>98</th>\n",
       "      <td>802013583</td>\n",
       "      <td>Existing Customer</td>\n",
       "      <td>56</td>\n",
       "      <td>M</td>\n",
       "      <td>3</td>\n",
       "      <td>College</td>\n",
       "      <td>$120K +</td>\n",
       "      <td>9689.0</td>\n",
       "      <td>2250</td>\n",
       "      <td>7439.0</td>\n",
       "      <td>1158</td>\n",
       "    </tr>\n",
       "    <tr>\n",
       "      <th>99</th>\n",
       "      <td>711887583</td>\n",
       "      <td>Attrited Customer</td>\n",
       "      <td>47</td>\n",
       "      <td>M</td>\n",
       "      <td>2</td>\n",
       "      <td>Unknown</td>\n",
       "      <td>$80K - $120K</td>\n",
       "      <td>5449.0</td>\n",
       "      <td>1628</td>\n",
       "      <td>3821.0</td>\n",
       "      <td>836</td>\n",
       "    </tr>\n",
       "  </tbody>\n",
       "</table>\n",
       "<p>100 rows × 11 columns</p>\n",
       "</div>"
      ],
      "text/plain": [
       "    CLIENTNUM     Attrition_Flag  Customer_Age Gender  Dependent_count  \\\n",
       "0   768805383  Existing Customer            45      M                3   \n",
       "1   818770008  Existing Customer            49      F                5   \n",
       "2   713982108  Existing Customer            51      M                3   \n",
       "3   769911858  Existing Customer            40      F                4   \n",
       "4   709106358  Existing Customer            40      M                3   \n",
       "..        ...                ...           ...    ...              ...   \n",
       "95  719712633  Existing Customer            64      M                1   \n",
       "96  772629333  Existing Customer            45      M                3   \n",
       "97  720336708  Existing Customer            53      M                3   \n",
       "98  802013583  Existing Customer            56      M                3   \n",
       "99  711887583  Attrited Customer            47      M                2   \n",
       "\n",
       "   Education_Level Income_Category  Credit_Limit  Total_Revolving_Bal  \\\n",
       "0      High School     $60K - $80K       12691.0                  777   \n",
       "1         Graduate  Less than $40K        8256.0                  864   \n",
       "2         Graduate    $80K - $120K        3418.0                    0   \n",
       "3      High School  Less than $40K        3313.0                 2517   \n",
       "4       Uneducated     $60K - $80K        4716.0                    0   \n",
       "..             ...             ...           ...                  ...   \n",
       "95        Graduate  Less than $40K        1709.0                  895   \n",
       "96        Graduate     $40K - $60K        3454.0                 1200   \n",
       "97       Doctorate     $40K - $60K        3789.0                 1706   \n",
       "98         College         $120K +        9689.0                 2250   \n",
       "99         Unknown    $80K - $120K        5449.0                 1628   \n",
       "\n",
       "    Avg_Purchase  Total_Trans_Amt  \n",
       "0        11914.0             1144  \n",
       "1         7392.0             1291  \n",
       "2         3418.0             1887  \n",
       "3          796.0             1171  \n",
       "4         4716.0              816  \n",
       "..           ...              ...  \n",
       "95         814.0             1673  \n",
       "96        2254.0             1313  \n",
       "97        2083.0             1609  \n",
       "98        7439.0             1158  \n",
       "99        3821.0              836  \n",
       "\n",
       "[100 rows x 11 columns]"
      ]
     },
     "execution_count": 4,
     "metadata": {},
     "output_type": "execute_result"
    }
   ],
   "source": [
    "credit_df = pd.read_csv(\"CreditCard_DV.csv\")\n",
    "credit_df"
   ]
  },
  {
   "cell_type": "markdown",
   "id": "995c7cc2",
   "metadata": {},
   "source": [
    "# Create a bivariate plot to find if there is a correlation between credit card limit and average purchase made on the card"
   ]
  },
  {
   "cell_type": "code",
   "execution_count": 10,
   "id": "52d6f9ec",
   "metadata": {},
   "outputs": [
    {
     "data": {
      "text/plain": [
       "Text(0.5, 1.0, 'Credit_Limit vs Avg_Purchase')"
      ]
     },
     "execution_count": 10,
     "metadata": {},
     "output_type": "execute_result"
    },
    {
     "data": {
      "image/png": "[encoded data removed]",
      "text/plain": [
       "<Figure size 600x600 with 1 Axes>"
      ]
     },
     "metadata": {},
     "output_type": "display_data"
    }
   ],
   "source": [
    "ax = credit_df.plot(\"Credit_Limit\",\"Avg_Purchase\",kind = \"scatter\",color = \"red\",marker = \"o\",figsize = (6,6))\n",
    "ax.set_xlabel(\"Credit_Limit\")\n",
    "ax.set_ylabel(\"Avg_Purchase\")\n",
    "ax.set_title(\"Credit_Limit vs Avg_Purchase\",fontsize = 16)"
   ]
  },
  {
   "cell_type": "markdown",
   "id": "66d82cdf",
   "metadata": {},
   "source": [
    "# Visualise the distribution of values for credit card limit and average purchase made on the card.Also,identify the outliers in the data,if any."
   ]
  },
  {
   "cell_type": "code",
   "execution_count": 11,
   "id": "2c35b5da",
   "metadata": {},
   "outputs": [
    {
     "data": {
      "text/plain": [
       "count      100.000000\n",
       "mean     10881.756000\n",
       "std      10056.333148\n",
       "min       1438.300000\n",
       "25%       3309.250000\n",
       "50%       6666.000000\n",
       "75%      14746.500000\n",
       "max      34516.000000\n",
       "Name: Credit_Limit, dtype: float64"
      ]
     },
     "execution_count": 11,
     "metadata": {},
     "output_type": "execute_result"
    }
   ],
   "source": [
    "credit_df[\"Credit_Limit\"].describe()"
   ]
  },
  {
   "cell_type": "code",
   "execution_count": 18,
   "id": "cc5f9672",
   "metadata": {},
   "outputs": [
    {
     "data": {
      "image/png": "[encoded data removed]",
      "text/plain": [
       "<Figure size 640x480 with 2 Axes>"
      ]
     },
     "metadata": {},
     "output_type": "display_data"
    }
   ],
   "source": [
    "fig,(ax1,ax2) = plt.subplots(1,2)\n",
    "ax1.boxplot(credit_df[\"Credit_Limit\"])\n",
    "ax2.boxplot(credit_df[\"Avg_Purchase\"])\n",
    "ax1.set_title('Distibution of Credit_Limit')\n",
    "ax1.set_xlabel('Credit Limit')\n",
    "ax2.set_ylabel('Average Purchase')\n",
    "ax2.set_xlabel('Avg Purchase')\n",
    "fig.tight_layout()"
   ]
  },
  {
   "cell_type": "code",
   "execution_count": 19,
   "id": "b6e99f1f",
   "metadata": {},
   "outputs": [
    {
     "name": "stdout",
     "output_type": "stream",
     "text": [
      "IQR 11437.25\n",
      "upper_bound: 31902.375\n",
      "lower_bound: -13846.625\n"
     ]
    }
   ],
   "source": [
    "cr_limit_arr = credit_df[\"Credit_Limit\"]\n",
    "q1 = np.quantile(cr_limit_arr,0.25)\n",
    "q3 = np.quantile(cr_limit_arr,0.75)\n",
    "iqr = q3-q1\n",
    "upper_bound = q3+(1.5*iqr)\n",
    "lower_bound = q1-(1.5*iqr)\n",
    "print(\"IQR\",iqr)\n",
    "print(\"upper_bound:\",upper_bound)\n",
    "print(\"lower_bound:\",lower_bound)"
   ]
  },
  {
   "cell_type": "code",
   "execution_count": 22,
   "id": "ac121d8f",
   "metadata": {},
   "outputs": [
    {
     "name": "stdout",
     "output_type": "stream",
     "text": [
      "The following are the outliers in the boxplot of Credit Limit:\n",
      " 0     12691.0\n",
      "1      8256.0\n",
      "2      3418.0\n",
      "3      3313.0\n",
      "4      4716.0\n",
      "       ...   \n",
      "95     1709.0\n",
      "96     3454.0\n",
      "97     3789.0\n",
      "98     9689.0\n",
      "99     5449.0\n",
      "Name: Credit_Limit, Length: 92, dtype: float64\n"
     ]
    }
   ],
   "source": [
    "outliers = cr_limit_arr[(cr_limit_arr<=lower_bound) | (cr_limit_arr<=upper_bound)]\n",
    "print('The following are the outliers in the boxplot of Credit Limit:\\n',outliers)"
   ]
  }
 ],
 "metadata": {
  "kernelspec": {
   "display_name": "Python 3 (ipykernel)",
   "language": "python",
   "name": "python3"
  },
  "language_info": {
   "codemirror_mode": {
    "name": "ipython",
    "version": 3
   },
   "file_extension": ".py",
   "mimetype": "text/x-python",
   "name": "python",
   "nbconvert_exporter": "python",
   "pygments_lexer": "ipython3",
   "version": "3.11.4"
  }
 },
 "nbformat": 4,
 "nbformat_minor": 5
}
