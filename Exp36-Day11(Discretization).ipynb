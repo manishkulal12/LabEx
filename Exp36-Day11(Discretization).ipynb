{
 "cells": [
  {
   "cell_type": "code",
   "execution_count": 5,
   "id": "376d95e5",
   "metadata": {},
   "outputs": [],
   "source": [
    "import pandas as pd\n",
    "import numpy as np"
   ]
  },
  {
   "cell_type": "code",
   "execution_count": 9,
   "id": "226db995",
   "metadata": {},
   "outputs": [
    {
     "name": "stdout",
     "output_type": "stream",
     "text": [
      "   number       bins\n",
      "0      24   (20, 40]\n",
      "1      75   (60, 80]\n",
      "2      66   (60, 80]\n",
      "3      95  (80, 100]\n",
      "4       8    (1, 20]\n",
      "5      27   (20, 40]\n",
      "6      91  (80, 100]\n",
      "7      38   (20, 40]\n",
      "8      54   (40, 60]\n",
      "9      19    (1, 20]\n",
      "[(20, 40], (60, 80], (80, 100], (1, 20], (40, 60]]\n",
      "Categories (5, interval[int64, right]): [(1, 20] < (20, 40] < (40, 60] < (60, 80] < (80, 100]]\n"
     ]
    }
   ],
   "source": [
    "df = pd.DataFrame({'number' : np.random.randint(1,100,10)})\n",
    "df['bins'] = pd.cut(x = df['number'],bins = [1,20,40,60,80,100])\n",
    "print(df)\n",
    "print(df['bins'].unique())"
   ]
  },
  {
   "cell_type": "code",
   "execution_count": null,
   "id": "03119bd1",
   "metadata": {},
   "outputs": [],
   "source": []
  }
 ],
 "metadata": {
  "kernelspec": {
   "display_name": "Python 3 (ipykernel)",
   "language": "python",
   "name": "python3"
  },
  "language_info": {
   "codemirror_mode": {
    "name": "ipython",
    "version": 3
   },
   "file_extension": ".py",
   "mimetype": "text/x-python",
   "name": "python",
   "nbconvert_exporter": "python",
   "pygments_lexer": "ipython3",
   "version": "3.11.4"
  }
 },
 "nbformat": 4,
 "nbformat_minor": 5
}
